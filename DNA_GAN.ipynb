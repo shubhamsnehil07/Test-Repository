{
  "nbformat": 4,
  "nbformat_minor": 0,
  "metadata": {
    "colab": {
      "provenance": [],
      "authorship_tag": "ABX9TyO8pdrxy+/wosa3hBB8CUFl",
      "include_colab_link": true
    },
    "kernelspec": {
      "name": "python3",
      "display_name": "Python 3"
    },
    "language_info": {
      "name": "python"
    }
  },
  "cells": [
    {
      "cell_type": "markdown",
      "metadata": {
        "id": "view-in-github",
        "colab_type": "text"
      },
      "source": [
        "<a href=\"https://colab.research.google.com/github/shubhamsnehil07/Test-Repository/blob/main/DNA_GAN.ipynb\" target=\"_parent\"><img src=\"https://colab.research.google.com/assets/colab-badge.svg\" alt=\"Open In Colab\"/></a>"
      ]
    },
    {
      "cell_type": "code",
      "execution_count": 1,
      "metadata": {
        "id": "gOvnjeVNJ0S8"
      },
      "outputs": [],
      "source": [
        "import pandas as pd"
      ]
    },
    {
      "cell_type": "code",
      "source": [
        "df = pd.read_csv(\"data.csv\", delimiter=\"\\t\", header=None)"
      ],
      "metadata": {
        "id": "E5WFjlK0KwUs"
      },
      "execution_count": 5,
      "outputs": []
    },
    {
      "cell_type": "code",
      "source": [
        "df.head()"
      ],
      "metadata": {
        "colab": {
          "base_uri": "https://localhost:8080/",
          "height": 206
        },
        "id": "8LCic5bLLB3A",
        "outputId": "703db451-15d0-4bfb-f5b9-e00ecf8e65b2"
      },
      "execution_count": 6,
      "outputs": [
        {
          "output_type": "execute_result",
          "data": {
            "text/plain": [
              "              0                                                  1  \\\n",
              "0        +,S10,                                                NaN   \n",
              "1       +,AMPC,                                                NaN   \n",
              "2       +,AROH,                                                NaN   \n",
              "3      +,DEOP2,  aattgtgatgtgtatcgaagtgtgttgcggagtagatgttagaata...   \n",
              "4  +,LEU1_TRNA,  tcgataattaactattgacgaaaagctgaaaaccactagaatgcgc...   \n",
              "\n",
              "                                                   2  \n",
              "0  tactagcaatacgcttgcgttcggtggttaagtatgtataatgcgc...  \n",
              "1  tgctatcctgacagttgtcacgctgattggtgtcgttacaatctaa...  \n",
              "2  gtactagagaactagtgcattagcttatttttttgttatcatgcta...  \n",
              "3                                                NaN  \n",
              "4                                                NaN  "
            ],
            "text/html": [
              "\n",
              "  <div id=\"df-d55d0b79-bec3-43aa-a4a9-40643c99b2ee\" class=\"colab-df-container\">\n",
              "    <div>\n",
              "<style scoped>\n",
              "    .dataframe tbody tr th:only-of-type {\n",
              "        vertical-align: middle;\n",
              "    }\n",
              "\n",
              "    .dataframe tbody tr th {\n",
              "        vertical-align: top;\n",
              "    }\n",
              "\n",
              "    .dataframe thead th {\n",
              "        text-align: right;\n",
              "    }\n",
              "</style>\n",
              "<table border=\"1\" class=\"dataframe\">\n",
              "  <thead>\n",
              "    <tr style=\"text-align: right;\">\n",
              "      <th></th>\n",
              "      <th>0</th>\n",
              "      <th>1</th>\n",
              "      <th>2</th>\n",
              "    </tr>\n",
              "  </thead>\n",
              "  <tbody>\n",
              "    <tr>\n",
              "      <th>0</th>\n",
              "      <td>+,S10,</td>\n",
              "      <td>NaN</td>\n",
              "      <td>tactagcaatacgcttgcgttcggtggttaagtatgtataatgcgc...</td>\n",
              "    </tr>\n",
              "    <tr>\n",
              "      <th>1</th>\n",
              "      <td>+,AMPC,</td>\n",
              "      <td>NaN</td>\n",
              "      <td>tgctatcctgacagttgtcacgctgattggtgtcgttacaatctaa...</td>\n",
              "    </tr>\n",
              "    <tr>\n",
              "      <th>2</th>\n",
              "      <td>+,AROH,</td>\n",
              "      <td>NaN</td>\n",
              "      <td>gtactagagaactagtgcattagcttatttttttgttatcatgcta...</td>\n",
              "    </tr>\n",
              "    <tr>\n",
              "      <th>3</th>\n",
              "      <td>+,DEOP2,</td>\n",
              "      <td>aattgtgatgtgtatcgaagtgtgttgcggagtagatgttagaata...</td>\n",
              "      <td>NaN</td>\n",
              "    </tr>\n",
              "    <tr>\n",
              "      <th>4</th>\n",
              "      <td>+,LEU1_TRNA,</td>\n",
              "      <td>tcgataattaactattgacgaaaagctgaaaaccactagaatgcgc...</td>\n",
              "      <td>NaN</td>\n",
              "    </tr>\n",
              "  </tbody>\n",
              "</table>\n",
              "</div>\n",
              "    <div class=\"colab-df-buttons\">\n",
              "\n",
              "  <div class=\"colab-df-container\">\n",
              "    <button class=\"colab-df-convert\" onclick=\"convertToInteractive('df-d55d0b79-bec3-43aa-a4a9-40643c99b2ee')\"\n",
              "            title=\"Convert this dataframe to an interactive table.\"\n",
              "            style=\"display:none;\">\n",
              "\n",
              "  <svg xmlns=\"http://www.w3.org/2000/svg\" height=\"24px\" viewBox=\"0 -960 960 960\">\n",
              "    <path d=\"M120-120v-720h720v720H120Zm60-500h600v-160H180v160Zm220 220h160v-160H400v160Zm0 220h160v-160H400v160ZM180-400h160v-160H180v160Zm440 0h160v-160H620v160ZM180-180h160v-160H180v160Zm440 0h160v-160H620v160Z\"/>\n",
              "  </svg>\n",
              "    </button>\n",
              "\n",
              "  <style>\n",
              "    .colab-df-container {\n",
              "      display:flex;\n",
              "      gap: 12px;\n",
              "    }\n",
              "\n",
              "    .colab-df-convert {\n",
              "      background-color: #E8F0FE;\n",
              "      border: none;\n",
              "      border-radius: 50%;\n",
              "      cursor: pointer;\n",
              "      display: none;\n",
              "      fill: #1967D2;\n",
              "      height: 32px;\n",
              "      padding: 0 0 0 0;\n",
              "      width: 32px;\n",
              "    }\n",
              "\n",
              "    .colab-df-convert:hover {\n",
              "      background-color: #E2EBFA;\n",
              "      box-shadow: 0px 1px 2px rgba(60, 64, 67, 0.3), 0px 1px 3px 1px rgba(60, 64, 67, 0.15);\n",
              "      fill: #174EA6;\n",
              "    }\n",
              "\n",
              "    .colab-df-buttons div {\n",
              "      margin-bottom: 4px;\n",
              "    }\n",
              "\n",
              "    [theme=dark] .colab-df-convert {\n",
              "      background-color: #3B4455;\n",
              "      fill: #D2E3FC;\n",
              "    }\n",
              "\n",
              "    [theme=dark] .colab-df-convert:hover {\n",
              "      background-color: #434B5C;\n",
              "      box-shadow: 0px 1px 3px 1px rgba(0, 0, 0, 0.15);\n",
              "      filter: drop-shadow(0px 1px 2px rgba(0, 0, 0, 0.3));\n",
              "      fill: #FFFFFF;\n",
              "    }\n",
              "  </style>\n",
              "\n",
              "    <script>\n",
              "      const buttonEl =\n",
              "        document.querySelector('#df-d55d0b79-bec3-43aa-a4a9-40643c99b2ee button.colab-df-convert');\n",
              "      buttonEl.style.display =\n",
              "        google.colab.kernel.accessAllowed ? 'block' : 'none';\n",
              "\n",
              "      async function convertToInteractive(key) {\n",
              "        const element = document.querySelector('#df-d55d0b79-bec3-43aa-a4a9-40643c99b2ee');\n",
              "        const dataTable =\n",
              "          await google.colab.kernel.invokeFunction('convertToInteractive',\n",
              "                                                    [key], {});\n",
              "        if (!dataTable) return;\n",
              "\n",
              "        const docLinkHtml = 'Like what you see? Visit the ' +\n",
              "          '<a target=\"_blank\" href=https://colab.research.google.com/notebooks/data_table.ipynb>data table notebook</a>'\n",
              "          + ' to learn more about interactive tables.';\n",
              "        element.innerHTML = '';\n",
              "        dataTable['output_type'] = 'display_data';\n",
              "        await google.colab.output.renderOutput(dataTable, element);\n",
              "        const docLink = document.createElement('div');\n",
              "        docLink.innerHTML = docLinkHtml;\n",
              "        element.appendChild(docLink);\n",
              "      }\n",
              "    </script>\n",
              "  </div>\n",
              "\n",
              "\n",
              "    <div id=\"df-9b14dc04-d067-455f-8c4f-02b769a593ea\">\n",
              "      <button class=\"colab-df-quickchart\" onclick=\"quickchart('df-9b14dc04-d067-455f-8c4f-02b769a593ea')\"\n",
              "                title=\"Suggest charts\"\n",
              "                style=\"display:none;\">\n",
              "\n",
              "<svg xmlns=\"http://www.w3.org/2000/svg\" height=\"24px\"viewBox=\"0 0 24 24\"\n",
              "     width=\"24px\">\n",
              "    <g>\n",
              "        <path d=\"M19 3H5c-1.1 0-2 .9-2 2v14c0 1.1.9 2 2 2h14c1.1 0 2-.9 2-2V5c0-1.1-.9-2-2-2zM9 17H7v-7h2v7zm4 0h-2V7h2v10zm4 0h-2v-4h2v4z\"/>\n",
              "    </g>\n",
              "</svg>\n",
              "      </button>\n",
              "\n",
              "<style>\n",
              "  .colab-df-quickchart {\n",
              "      --bg-color: #E8F0FE;\n",
              "      --fill-color: #1967D2;\n",
              "      --hover-bg-color: #E2EBFA;\n",
              "      --hover-fill-color: #174EA6;\n",
              "      --disabled-fill-color: #AAA;\n",
              "      --disabled-bg-color: #DDD;\n",
              "  }\n",
              "\n",
              "  [theme=dark] .colab-df-quickchart {\n",
              "      --bg-color: #3B4455;\n",
              "      --fill-color: #D2E3FC;\n",
              "      --hover-bg-color: #434B5C;\n",
              "      --hover-fill-color: #FFFFFF;\n",
              "      --disabled-bg-color: #3B4455;\n",
              "      --disabled-fill-color: #666;\n",
              "  }\n",
              "\n",
              "  .colab-df-quickchart {\n",
              "    background-color: var(--bg-color);\n",
              "    border: none;\n",
              "    border-radius: 50%;\n",
              "    cursor: pointer;\n",
              "    display: none;\n",
              "    fill: var(--fill-color);\n",
              "    height: 32px;\n",
              "    padding: 0;\n",
              "    width: 32px;\n",
              "  }\n",
              "\n",
              "  .colab-df-quickchart:hover {\n",
              "    background-color: var(--hover-bg-color);\n",
              "    box-shadow: 0 1px 2px rgba(60, 64, 67, 0.3), 0 1px 3px 1px rgba(60, 64, 67, 0.15);\n",
              "    fill: var(--button-hover-fill-color);\n",
              "  }\n",
              "\n",
              "  .colab-df-quickchart-complete:disabled,\n",
              "  .colab-df-quickchart-complete:disabled:hover {\n",
              "    background-color: var(--disabled-bg-color);\n",
              "    fill: var(--disabled-fill-color);\n",
              "    box-shadow: none;\n",
              "  }\n",
              "\n",
              "  .colab-df-spinner {\n",
              "    border: 2px solid var(--fill-color);\n",
              "    border-color: transparent;\n",
              "    border-bottom-color: var(--fill-color);\n",
              "    animation:\n",
              "      spin 1s steps(1) infinite;\n",
              "  }\n",
              "\n",
              "  @keyframes spin {\n",
              "    0% {\n",
              "      border-color: transparent;\n",
              "      border-bottom-color: var(--fill-color);\n",
              "      border-left-color: var(--fill-color);\n",
              "    }\n",
              "    20% {\n",
              "      border-color: transparent;\n",
              "      border-left-color: var(--fill-color);\n",
              "      border-top-color: var(--fill-color);\n",
              "    }\n",
              "    30% {\n",
              "      border-color: transparent;\n",
              "      border-left-color: var(--fill-color);\n",
              "      border-top-color: var(--fill-color);\n",
              "      border-right-color: var(--fill-color);\n",
              "    }\n",
              "    40% {\n",
              "      border-color: transparent;\n",
              "      border-right-color: var(--fill-color);\n",
              "      border-top-color: var(--fill-color);\n",
              "    }\n",
              "    60% {\n",
              "      border-color: transparent;\n",
              "      border-right-color: var(--fill-color);\n",
              "    }\n",
              "    80% {\n",
              "      border-color: transparent;\n",
              "      border-right-color: var(--fill-color);\n",
              "      border-bottom-color: var(--fill-color);\n",
              "    }\n",
              "    90% {\n",
              "      border-color: transparent;\n",
              "      border-bottom-color: var(--fill-color);\n",
              "    }\n",
              "  }\n",
              "</style>\n",
              "\n",
              "      <script>\n",
              "        async function quickchart(key) {\n",
              "          const quickchartButtonEl =\n",
              "            document.querySelector('#' + key + ' button');\n",
              "          quickchartButtonEl.disabled = true;  // To prevent multiple clicks.\n",
              "          quickchartButtonEl.classList.add('colab-df-spinner');\n",
              "          try {\n",
              "            const charts = await google.colab.kernel.invokeFunction(\n",
              "                'suggestCharts', [key], {});\n",
              "          } catch (error) {\n",
              "            console.error('Error during call to suggestCharts:', error);\n",
              "          }\n",
              "          quickchartButtonEl.classList.remove('colab-df-spinner');\n",
              "          quickchartButtonEl.classList.add('colab-df-quickchart-complete');\n",
              "        }\n",
              "        (() => {\n",
              "          let quickchartButtonEl =\n",
              "            document.querySelector('#df-9b14dc04-d067-455f-8c4f-02b769a593ea button');\n",
              "          quickchartButtonEl.style.display =\n",
              "            google.colab.kernel.accessAllowed ? 'block' : 'none';\n",
              "        })();\n",
              "      </script>\n",
              "    </div>\n",
              "\n",
              "    </div>\n",
              "  </div>\n"
            ],
            "application/vnd.google.colaboratory.intrinsic+json": {
              "type": "dataframe",
              "variable_name": "df",
              "summary": "{\n  \"name\": \"df\",\n  \"rows\": 106,\n  \"fields\": [\n    {\n      \"column\": 0,\n      \"properties\": {\n        \"dtype\": \"string\",\n        \"num_unique_values\": 106,\n        \"samples\": [\n          \"-, 663,\",\n          \"+,RRNAB_P2,\",\n          \"+,LEU1_TRNA,\"\n        ],\n        \"semantic_type\": \"\",\n        \"description\": \"\"\n      }\n    },\n    {\n      \"column\": 1,\n      \"properties\": {\n        \"dtype\": \"category\",\n        \"num_unique_values\": 25,\n        \"samples\": [\n          \"tttatatttttcgcttgtcaggccggaataactccctataatgcgccaccactgaca\",\n          \"atgcgcaacgcggggtgacaagggcgcgcaaaccctctatactgcgcgccgaagctg\",\n          \"aattgtgatgtgtatcgaagtgtgttgcggagtagatgttagaatactaacaaactc\"\n        ],\n        \"semantic_type\": \"\",\n        \"description\": \"\"\n      }\n    },\n    {\n      \"column\": 2,\n      \"properties\": {\n        \"dtype\": \"string\",\n        \"num_unique_values\": 81,\n        \"samples\": [\n          \"caatggcctctaaacgggtcttgaggggttttttgctgaaaggaggaactatatgcg\",\n          \"tactagcaatacgcttgcgttcggtggttaagtatgtataatgcgcgggcttgtcgt\",\n          \"aacgcatacggtattttaccttcccagtcaagaaaacttatcttattcccacttttc\"\n        ],\n        \"semantic_type\": \"\",\n        \"description\": \"\"\n      }\n    }\n  ]\n}"
            }
          },
          "metadata": {},
          "execution_count": 6
        }
      ]
    },
    {
      "cell_type": "code",
      "source": [
        "# Extract the column that contains DNA (likely column 2 or 3)\n",
        "sequences = df[2].dropna().str.upper().tolist()\n",
        "\n",
        "# Filter sequences with only A/T/C/G\n",
        "clean_sequences = [s for s in sequences if set(s).issubset(set(\"ATCG\"))]\n"
      ],
      "metadata": {
        "id": "2byX8rKLLFvz"
      },
      "execution_count": 7,
      "outputs": []
    },
    {
      "cell_type": "code",
      "source": [
        "len(clean_sequences[1])"
      ],
      "metadata": {
        "colab": {
          "base_uri": "https://localhost:8080/"
        },
        "id": "5gOD_gRwtxdn",
        "outputId": "63e5831c-852d-430f-8ef7-b3ddb516bc5b"
      },
      "execution_count": 101,
      "outputs": [
        {
          "output_type": "execute_result",
          "data": {
            "text/plain": [
              "57"
            ]
          },
          "metadata": {},
          "execution_count": 101
        }
      ]
    },
    {
      "cell_type": "markdown",
      "source": [
        "## 1. Prepare and Encode DNA Data"
      ],
      "metadata": {
        "id": "CRclmK3GPFbR"
      }
    },
    {
      "cell_type": "code",
      "source": [
        "import torch\n",
        "from torch.utils.data import Dataset, DataLoader\n",
        "\n",
        "# Define vocab\n",
        "vocab = {'A': 0, 'T': 1, 'C': 2, 'G': 3}\n",
        "inv_vocab = {v: k for k, v in vocab.items()}\n",
        "max_len = 57\n",
        "\n",
        "def encode_sequence(seq, max_len):\n",
        "    encoded = [vocab[char] for char in seq if char in vocab]\n",
        "    return encoded[:max_len] + [0] * (max_len - len(encoded))\n",
        "\n",
        "class DNADataset(Dataset):\n",
        "    def __init__(self, sequences):\n",
        "        self.sequences = [torch.tensor(encode_sequence(seq, max_len), dtype=torch.long) for seq in sequences]\n",
        "\n",
        "    def __len__(self):\n",
        "        return len(self.sequences)\n",
        "\n",
        "    def __getitem__(self, idx):\n",
        "        return self.sequences[idx]\n",
        "\n",
        "dataset = DNADataset(clean_sequences)\n",
        "dataloader = DataLoader(dataset, batch_size=2, shuffle=True)\n"
      ],
      "metadata": {
        "id": "RLgKFhLsNbRd"
      },
      "execution_count": 12,
      "outputs": []
    },
    {
      "cell_type": "markdown",
      "source": [
        "## 2. Define Generator and Discriminator"
      ],
      "metadata": {
        "id": "_RdAsz9jPVsp"
      }
    },
    {
      "cell_type": "code",
      "source": [
        "import torch.nn as nn\n",
        "\n",
        "class Generator(nn.Module):\n",
        "    def __init__(self, vocab_size=4, hidden_dim=64, seq_len=50):\n",
        "        super().__init__()\n",
        "        self.emb = nn.Embedding(vocab_size, hidden_dim)\n",
        "        self.rnn = nn.GRU(hidden_dim, hidden_dim, batch_first=True)\n",
        "        self.fc = nn.Linear(hidden_dim, vocab_size)\n",
        "        self.seq_len = seq_len\n",
        "\n",
        "    def forward(self, x, hidden=None):\n",
        "        x = self.emb(x)\n",
        "        out, hidden = self.rnn(x, hidden)\n",
        "        logits = self.fc(out)\n",
        "        return logits, hidden\n",
        "\n",
        "    def sample(self, batch_size):\n",
        "        samples = []\n",
        "        input = torch.zeros((batch_size, 1), dtype=torch.long)\n",
        "        hidden = None\n",
        "        for _ in range(self.seq_len):\n",
        "            logits, hidden = self.forward(input, hidden)\n",
        "            probs = torch.softmax(logits[:, -1, :], dim=-1)\n",
        "            input = torch.multinomial(probs, num_samples=1)\n",
        "            samples.append(input)\n",
        "        return torch.cat(samples, dim=1)\n",
        "\n",
        "class Discriminator(nn.Module):\n",
        "    def __init__(self, vocab_size=4, hidden_dim=64):\n",
        "        super().__init__()\n",
        "        self.emb = nn.Embedding(vocab_size, hidden_dim)\n",
        "        self.rnn = nn.GRU(hidden_dim, hidden_dim, batch_first=True)\n",
        "        self.fc = nn.Linear(hidden_dim, 1)\n",
        "\n",
        "    def forward(self, x):\n",
        "        x = self.emb(x)\n",
        "        _, h = self.rnn(x)\n",
        "        return torch.sigmoid(self.fc(h.squeeze(0)))\n"
      ],
      "metadata": {
        "id": "Lg0Yy2M7Nv65"
      },
      "execution_count": 17,
      "outputs": []
    },
    {
      "cell_type": "markdown",
      "source": [
        "## 3. Rollout Module for Reward Estimation"
      ],
      "metadata": {
        "id": "WblcLYIHPb9x"
      }
    },
    {
      "cell_type": "code",
      "source": [
        "class Rollout:\n",
        "    def __init__(self, generator, update_rate=0.9):\n",
        "        self.generator = generator\n",
        "        self.update_rate = update_rate\n",
        "\n",
        "    def rollout(self, partial_seq):\n",
        "        x = partial_seq\n",
        "        hidden = None\n",
        "        for _ in range(x.size(1), self.generator.seq_len):\n",
        "            logits, hidden = self.generator(x, hidden)\n",
        "            probs = torch.softmax(logits[:, -1, :], dim=-1)\n",
        "            next_token = torch.multinomial(probs, num_samples=1)\n",
        "            x = torch.cat([x, next_token], dim=1)\n",
        "        return x\n",
        "\n",
        "    def get_reward(self, x, discriminator, rollout_num=8):\n",
        "        batch_size, seq_len = x.size()\n",
        "        rewards = torch.zeros((batch_size, seq_len))\n",
        "        for t in range(1, seq_len + 1):\n",
        "            samples = []\n",
        "            for _ in range(rollout_num):\n",
        "                sample = self.rollout(x[:, :t])\n",
        "                samples.append(sample)\n",
        "            samples = torch.stack(samples).view(-1, seq_len)\n",
        "            with torch.no_grad():\n",
        "                preds = discriminator(samples).view(rollout_num, batch_size)\n",
        "            rewards[:, t - 1] = preds.mean(0)\n",
        "        return rewards\n"
      ],
      "metadata": {
        "id": "V0daQuWgOBpB"
      },
      "execution_count": 14,
      "outputs": []
    },
    {
      "cell_type": "markdown",
      "source": [
        "## 4. Training Functions"
      ],
      "metadata": {
        "id": "8R1iMCGNPjtJ"
      }
    },
    {
      "cell_type": "code",
      "source": [
        "def train_generator_PG(generator, rollout, discriminator, optimizer, batch_size):\n",
        "    fake_samples = generator.sample(batch_size)\n",
        "    rewards = rollout.get_reward(fake_samples, discriminator)\n",
        "\n",
        "    optimizer.zero_grad()\n",
        "    logits, _ = generator(fake_samples)\n",
        "    log_probs = torch.log_softmax(logits, dim=-1)\n",
        "\n",
        "    loss = 0\n",
        "    for t in range(generator.seq_len):\n",
        "        log_prob = log_probs[:, t, :].gather(1, fake_samples[:, t].unsqueeze(1)).squeeze()\n",
        "        loss += -log_prob * rewards[:, t]\n",
        "    loss = loss.mean()\n",
        "    loss.backward()\n",
        "    optimizer.step()\n",
        "    return loss.item()\n",
        "\n",
        "def train_discriminator(discriminator, real_data, generator, optimizer):\n",
        "    fake_data = generator.sample(real_data.size(0)).detach()\n",
        "    real_labels = torch.ones(real_data.size(0), 1)\n",
        "    fake_labels = torch.zeros(real_data.size(0), 1)\n",
        "\n",
        "    optimizer.zero_grad()\n",
        "    real_loss = nn.BCELoss()(discriminator(real_data), real_labels)\n",
        "    fake_loss = nn.BCELoss()(discriminator(fake_data), fake_labels)\n",
        "    loss = real_loss + fake_loss\n",
        "    loss.backward()\n",
        "    optimizer.step()\n",
        "    return loss.item()\n"
      ],
      "metadata": {
        "id": "JryCTHiaOFFp"
      },
      "execution_count": 15,
      "outputs": []
    },
    {
      "cell_type": "markdown",
      "source": [
        "## 5. Training Loop"
      ],
      "metadata": {
        "id": "QQwWgLCBPtqS"
      }
    },
    {
      "cell_type": "code",
      "source": [
        "generator = Generator()\n",
        "discriminator = Discriminator()\n",
        "rollout = Rollout(generator)\n",
        "\n",
        "g_optimizer = torch.optim.Adam(generator.parameters(), lr=1e-3)\n",
        "d_optimizer = torch.optim.Adam(discriminator.parameters(), lr=1e-3)\n",
        "\n",
        "for epoch in range(100):\n",
        "    for real_batch in dataloader:\n",
        "        d_loss = train_discriminator(discriminator, real_batch, generator, d_optimizer)\n",
        "        g_loss = train_generator_PG(generator, rollout, discriminator, g_optimizer, real_batch.size(0))\n",
        "\n",
        "    print(f\"[Epoch {epoch}] G Loss: {g_loss:.4f}, D Loss: {d_loss:.4f}\")\n"
      ],
      "metadata": {
        "colab": {
          "base_uri": "https://localhost:8080/"
        },
        "id": "01tHuVZ2OKph",
        "outputId": "d7efce76-45e8-4e70-a1a0-d7113ec71579"
      },
      "execution_count": 22,
      "outputs": [
        {
          "output_type": "stream",
          "name": "stdout",
          "text": [
            "[Epoch 0] G Loss: 31.0750, D Loss: 1.0658\n",
            "[Epoch 1] G Loss: 24.9204, D Loss: 1.1442\n",
            "[Epoch 2] G Loss: 18.4034, D Loss: 0.6139\n",
            "[Epoch 3] G Loss: 13.8152, D Loss: 0.8339\n",
            "[Epoch 4] G Loss: 8.4554, D Loss: 0.7083\n",
            "[Epoch 5] G Loss: 6.3021, D Loss: 0.3417\n",
            "[Epoch 6] G Loss: 4.6552, D Loss: 0.3445\n",
            "[Epoch 7] G Loss: 2.5529, D Loss: 0.2649\n",
            "[Epoch 8] G Loss: 1.7606, D Loss: 0.2702\n",
            "[Epoch 9] G Loss: 2.0057, D Loss: 0.1509\n",
            "[Epoch 10] G Loss: 1.1085, D Loss: 0.1293\n",
            "[Epoch 11] G Loss: 1.5090, D Loss: 0.1502\n",
            "[Epoch 12] G Loss: 1.3309, D Loss: 0.1335\n",
            "[Epoch 13] G Loss: 1.5051, D Loss: 0.2098\n",
            "[Epoch 14] G Loss: 0.9225, D Loss: 0.1886\n",
            "[Epoch 15] G Loss: 2.0198, D Loss: 0.1597\n",
            "[Epoch 16] G Loss: 1.3998, D Loss: 0.1340\n",
            "[Epoch 17] G Loss: 0.8872, D Loss: 2.6478\n",
            "[Epoch 18] G Loss: 1.3954, D Loss: 0.2509\n",
            "[Epoch 19] G Loss: 0.9957, D Loss: 2.0993\n",
            "[Epoch 20] G Loss: 0.5747, D Loss: 1.7160\n",
            "[Epoch 21] G Loss: 0.2876, D Loss: 1.5054\n",
            "[Epoch 22] G Loss: 0.9360, D Loss: 1.4290\n",
            "[Epoch 23] G Loss: 0.2602, D Loss: 1.3990\n",
            "[Epoch 24] G Loss: 0.1434, D Loss: 1.3971\n",
            "[Epoch 25] G Loss: 0.2783, D Loss: 1.3941\n",
            "[Epoch 26] G Loss: 0.1367, D Loss: 0.7881\n",
            "[Epoch 27] G Loss: 0.1297, D Loss: 1.3839\n",
            "[Epoch 28] G Loss: 0.1294, D Loss: 1.3905\n",
            "[Epoch 29] G Loss: 0.1268, D Loss: 0.5849\n",
            "[Epoch 30] G Loss: 0.1298, D Loss: 1.4322\n",
            "[Epoch 31] G Loss: 0.1171, D Loss: 1.4299\n",
            "[Epoch 32] G Loss: 0.1058, D Loss: 1.4044\n",
            "[Epoch 33] G Loss: 0.0905, D Loss: 1.3807\n",
            "[Epoch 34] G Loss: 0.0825, D Loss: 1.3683\n",
            "[Epoch 35] G Loss: 0.0732, D Loss: 1.3651\n",
            "[Epoch 36] G Loss: 0.0688, D Loss: 1.3566\n",
            "[Epoch 37] G Loss: 0.0624, D Loss: 1.3450\n",
            "[Epoch 38] G Loss: 0.0650, D Loss: 1.3301\n",
            "[Epoch 39] G Loss: 0.0639, D Loss: 1.3169\n",
            "[Epoch 40] G Loss: 0.0617, D Loss: 0.6736\n",
            "[Epoch 41] G Loss: 0.0620, D Loss: 1.2974\n",
            "[Epoch 42] G Loss: 0.0595, D Loss: 1.2753\n",
            "[Epoch 43] G Loss: 0.0555, D Loss: 1.2529\n",
            "[Epoch 44] G Loss: 0.0496, D Loss: 1.2229\n",
            "[Epoch 45] G Loss: 0.3384, D Loss: 1.1865\n",
            "[Epoch 46] G Loss: 0.0431, D Loss: 1.1760\n",
            "[Epoch 47] G Loss: 0.0414, D Loss: 1.1047\n",
            "[Epoch 48] G Loss: 0.0371, D Loss: 1.0444\n",
            "[Epoch 49] G Loss: 0.0342, D Loss: 0.9642\n",
            "[Epoch 50] G Loss: 0.0325, D Loss: 0.5130\n",
            "[Epoch 51] G Loss: 0.0314, D Loss: 0.7814\n",
            "[Epoch 52] G Loss: 0.0254, D Loss: 0.6606\n",
            "[Epoch 53] G Loss: 0.0172, D Loss: 0.5197\n",
            "[Epoch 54] G Loss: 0.0135, D Loss: 0.3761\n",
            "[Epoch 55] G Loss: 0.0118, D Loss: 0.2620\n",
            "[Epoch 56] G Loss: 0.0080, D Loss: 0.1843\n",
            "[Epoch 57] G Loss: 0.3422, D Loss: 0.1299\n",
            "[Epoch 58] G Loss: 0.0040, D Loss: 0.0964\n",
            "[Epoch 59] G Loss: 0.0030, D Loss: 0.0753\n",
            "[Epoch 60] G Loss: 0.0027, D Loss: 0.0605\n",
            "[Epoch 61] G Loss: 0.0021, D Loss: 0.0504\n",
            "[Epoch 62] G Loss: 0.0017, D Loss: 0.0430\n",
            "[Epoch 63] G Loss: 0.0015, D Loss: 0.0378\n",
            "[Epoch 64] G Loss: 0.0013, D Loss: 0.0340\n",
            "[Epoch 65] G Loss: 0.0014, D Loss: 0.0312\n",
            "[Epoch 66] G Loss: 0.0011, D Loss: 0.0287\n",
            "[Epoch 67] G Loss: 0.0012, D Loss: 0.0267\n",
            "[Epoch 68] G Loss: 0.0011, D Loss: 0.0250\n",
            "[Epoch 69] G Loss: 0.0028, D Loss: 0.0239\n",
            "[Epoch 70] G Loss: 0.0010, D Loss: 0.0222\n",
            "[Epoch 71] G Loss: 0.0023, D Loss: 0.0211\n",
            "[Epoch 72] G Loss: 0.0010, D Loss: 0.0199\n",
            "[Epoch 73] G Loss: 0.0010, D Loss: 0.0190\n",
            "[Epoch 74] G Loss: 0.0009, D Loss: 0.0181\n",
            "[Epoch 75] G Loss: 0.0009, D Loss: 0.0171\n",
            "[Epoch 76] G Loss: 0.0008, D Loss: 0.0164\n",
            "[Epoch 77] G Loss: 0.0007, D Loss: 0.0256\n",
            "[Epoch 78] G Loss: 0.0008, D Loss: 0.0149\n",
            "[Epoch 79] G Loss: 0.0267, D Loss: 0.0143\n",
            "[Epoch 80] G Loss: 0.0006, D Loss: 0.0137\n",
            "[Epoch 81] G Loss: 0.0009, D Loss: 0.0135\n",
            "[Epoch 82] G Loss: 0.0005, D Loss: 0.0150\n",
            "[Epoch 83] G Loss: 0.0007, D Loss: 0.1947\n",
            "[Epoch 84] G Loss: 0.0005, D Loss: 0.0585\n",
            "[Epoch 85] G Loss: 0.0048, D Loss: 0.0177\n",
            "[Epoch 86] G Loss: 0.0005, D Loss: 0.0166\n",
            "[Epoch 87] G Loss: 0.0006, D Loss: 0.0166\n",
            "[Epoch 88] G Loss: 0.0007, D Loss: 0.0168\n",
            "[Epoch 89] G Loss: 0.0007, D Loss: 0.0172\n",
            "[Epoch 90] G Loss: 0.0006, D Loss: 0.0166\n",
            "[Epoch 91] G Loss: 0.0005, D Loss: 0.0208\n",
            "[Epoch 92] G Loss: 0.0005, D Loss: 0.0259\n",
            "[Epoch 93] G Loss: 0.0482, D Loss: 0.0336\n",
            "[Epoch 94] G Loss: 0.0007, D Loss: 0.0386\n",
            "[Epoch 95] G Loss: 0.0008, D Loss: 0.0452\n",
            "[Epoch 96] G Loss: 0.0023, D Loss: 0.0207\n",
            "[Epoch 97] G Loss: 0.0005, D Loss: 0.0168\n",
            "[Epoch 98] G Loss: 0.0004, D Loss: 0.0173\n",
            "[Epoch 99] G Loss: 0.0006, D Loss: 0.0171\n"
          ]
        }
      ]
    },
    {
      "cell_type": "markdown",
      "source": [
        "## 6. Generate Synthetic DNA"
      ],
      "metadata": {
        "id": "MKi9USvSP4Rg"
      }
    },
    {
      "cell_type": "code",
      "source": [
        "gen_seq = generator.sample(1)[0]\n",
        "synth_dna = ''.join([inv_vocab[int(i)] for i in gen_seq])\n",
        "print(\"Synthetic DNA:\", synth_dna)\n",
        "print(f'len {len(synth_dna)}')"
      ],
      "metadata": {
        "colab": {
          "base_uri": "https://localhost:8080/"
        },
        "id": "pKbicN9mP006",
        "outputId": "b8332e80-8e2b-4555-fc07-e6cc514795c3"
      },
      "execution_count": 100,
      "outputs": [
        {
          "output_type": "stream",
          "name": "stdout",
          "text": [
            "Synthetic DNA: AAAAAAAAAAAAAAAAAAAAAAAAAAAAAAAAAAAAAAAAAAAAAAAAAA\n",
            "len 50\n"
          ]
        }
      ]
    },
    {
      "cell_type": "code",
      "source": [],
      "metadata": {
        "id": "F0M7e5E1uMeZ"
      },
      "execution_count": null,
      "outputs": []
    }
  ]
}